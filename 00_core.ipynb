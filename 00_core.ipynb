{
 "cells": [
  {
   "cell_type": "code",
   "execution_count": null,
   "metadata": {},
   "outputs": [],
   "source": [
    "# default_exp core"
   ]
  },
  {
   "cell_type": "markdown",
   "metadata": {},
   "source": [
    "# module name here\n",
    "\n",
    "> API details."
   ]
  },
  {
   "cell_type": "code",
   "execution_count": 1,
   "metadata": {},
   "outputs": [],
   "source": [
    "#hide\n",
    "from nbdev.showdoc import *"
   ]
  },
  {
   "cell_type": "markdown",
   "metadata": {},
   "source": [
    "Funtion: twoNumberSum"
   ]
  },
  {
   "cell_type": "code",
   "execution_count": 3,
   "metadata": {},
   "outputs": [],
   "source": [
    "#export\n",
    "def twoNumberSum(array, targetSum):\n",
    "    n = len(array)\n",
    "    for i in range(n - 1):\n",
    "        for j in range(i+1, n):\n",
    "            if array[i] + array[j] == targetSum:\n",
    "                return [array[i], array[j]]\n",
    "    return []"
   ]
  },
  {
   "cell_type": "markdown",
   "metadata": {},
   "source": [
    "use harsh table"
   ]
  },
  {
   "cell_type": "code",
   "execution_count": 15,
   "metadata": {},
   "outputs": [],
   "source": [
    "#export\n",
    "def twoNumberSumHarshTable(array, targetSum):\n",
    "    nums = []\n",
    "    for i in array:\n",
    "        n = targetSum - i\n",
    "        if n in nums:\n",
    "            return [i,n]\n",
    "        else:\n",
    "            nums.append(i)\n",
    "    return []"
   ]
  },
  {
   "cell_type": "markdown",
   "metadata": {},
   "source": [
    "use two points"
   ]
  },
  {
   "cell_type": "code",
   "execution_count": 29,
   "metadata": {},
   "outputs": [],
   "source": [
    "#export\n",
    "def twoNumberSumPoints(array, targetSum):\n",
    "    left = 0; right = len(array)-1\n",
    "    array.sort()\n",
    "    sa = array\n",
    "    while left < right:\n",
    "        n = sa[left] + sa[right]\n",
    "        if n > targetSum: # move to left\n",
    "            right = right - 1\n",
    "        elif n < targetSum: # move to right\n",
    "            left += 1\n",
    "        else:\n",
    "            return [sa[left], sa[right]]\n",
    "    return []\n",
    "            "
   ]
  },
  {
   "cell_type": "code",
   "execution_count": 4,
   "metadata": {},
   "outputs": [
    {
     "data": {
      "text/plain": [
       "[11, -1]"
      ]
     },
     "execution_count": 4,
     "metadata": {},
     "output_type": "execute_result"
    }
   ],
   "source": [
    "array = [3,5,-4,8,11,1,-1,6]\n",
    "targetSum = 10\n",
    "twoNumberSum(array, targetSum)"
   ]
  },
  {
   "cell_type": "code",
   "execution_count": 16,
   "metadata": {
    "scrolled": true
   },
   "outputs": [
    {
     "name": "stdout",
     "output_type": "stream",
     "text": [
      "[3]\n",
      "[3, 5]\n",
      "[3, 5, -4]\n",
      "[3, 5, -4, 8]\n",
      "[3, 5, -4, 8, 11]\n",
      "[3, 5, -4, 8, 11, 1]\n"
     ]
    },
    {
     "data": {
      "text/plain": [
       "[-1, 11]"
      ]
     },
     "execution_count": 16,
     "metadata": {},
     "output_type": "execute_result"
    }
   ],
   "source": [
    "twoNumberSumHarshTable(array, targetSum)"
   ]
  },
  {
   "cell_type": "code",
   "execution_count": 30,
   "metadata": {
    "scrolled": true
   },
   "outputs": [
    {
     "data": {
      "text/plain": [
       "[-1, 11]"
      ]
     },
     "execution_count": 30,
     "metadata": {},
     "output_type": "execute_result"
    }
   ],
   "source": [
    "twoNumberSumPoints(array, targetSum)"
   ]
  }
 ],
 "metadata": {
  "kernelspec": {
   "display_name": "Python 3",
   "language": "python",
   "name": "python3"
  },
  "language_info": {
   "codemirror_mode": {
    "name": "ipython",
    "version": 3
   },
   "file_extension": ".py",
   "mimetype": "text/x-python",
   "name": "python",
   "nbconvert_exporter": "python",
   "pygments_lexer": "ipython3",
   "version": "3.8.3"
  }
 },
 "nbformat": 4,
 "nbformat_minor": 2
}
